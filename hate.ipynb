{
 "nbformat": 4,
 "nbformat_minor": 2,
 "metadata": {
  "language_info": {
   "name": "python",
   "codemirror_mode": {
    "name": "ipython",
    "version": 3
   },
   "version": "3.8.2-final"
  },
  "orig_nbformat": 2,
  "file_extension": ".py",
  "mimetype": "text/x-python",
  "name": "python",
  "npconvert_exporter": "python",
  "pygments_lexer": "ipython3",
  "version": 3,
  "kernelspec": {
   "name": "python38264bit5e59d12f96fe4a1088437347c928eb4b",
   "display_name": "Python 3.8.2 64-bit"
  }
 },
 "cells": [
  {
   "cell_type": "code",
   "execution_count": 12,
   "metadata": {},
   "outputs": [],
   "source": [
    "import torch\n",
    "import torch.nn as nn \n",
    "import torch.nn.functional as F\n",
    "import urllib\n",
    "from pathlib import Path\n",
    "from typing import List\n",
    "import pandas as pd\n",
    "import numpy as np\n",
    "import re\n",
    "import nltk\n",
    "\n",
    "COMMENTS_FILE : Path =  Path(\".\") / \"comments.tsv\"\n",
    "ANNOTATIONS_FILE : Path = Path(\".\") / \"annotations.tsv\"\n",
    "\n",
    "ANNOTATED_COMMENTS_URL : str = 'https://ndownloader.figshare.com/files/7554634' \n",
    "ANNOTATIONS_URL : str = 'https://ndownloader.figshare.com/files/7554637' \n",
    "\n",
    "\n",
    "def download_dataset(url: str, f: Path):\n",
    "    \"\"\"\n",
    "    download_dataset: download dataset from the given URL\n",
    "    \"\"\"\n",
    "    if not f.exists():\n",
    "        urllib.request.urlretrieve(url, f)\n",
    "\n",
    "# Download the Dataset\n",
    "download_dataset(ANNOTATED_COMMENTS_URL, COMMENTS_FILE)\n",
    "download_dataset(ANNOTATIONS_URL, ANNOTATIONS_FILE)\n",
    "\n",
    "# load data into dataset\n",
    "annotations : pd.DataFrame = pd.read_csv(ANNOTATIONS_FILE, sep = \"\\t\")\n",
    "comments : pd.DataFrame = pd.read_csv(COMMENTS_FILE, sep = \"\\t\")\n",
    "comments = comments.set_index(\"rev_id\")"
   ]
  },
  {
   "cell_type": "code",
   "execution_count": 13,
   "metadata": {},
   "outputs": [],
   "source": [
    "# compute the labels of the data\n",
    "attack_prob : pd.DataFrame = annotations.groupby(\"rev_id\")[\"attack\"].mean()\n",
    "# Do some data cleaning => (NaNs => 0, )\n",
    "comments[\"attack\"] = attack_prob\n",
    "comments = comments.fillna(0)\n",
    "comments[\"comment\"] = comments[\"comment\"].str.replace(\n",
    "    re.compile(\"TAB_TOKEN|NEWLINE_TOKEN\"), \" \")\n",
    "comments[\"comment\"] = comments[\"comment\"].apply(lambda x:  nltk.word_tokenize(x))\n",
    ""
   ]
  },
  {
   "cell_type": "code",
   "execution_count": 14,
   "metadata": {},
   "outputs": [
    {
     "output_type": "execute_result",
     "data": {
      "text/plain": "                                                  comment  year  logged_in  \\\nrev_id                                                                       \n37675   [`, -, This, is, not, ``, creative, ``, ., Tho...  2002      False   \n44816   [`, :, :, the, term, ``, standard, model, ``, ...  2002      False   \n49851   [True, or, false, ,, the, situation, as, of, M...  2002      False   \n89320   [Next, ,, maybe, you, could, work, on, being, ...  2002       True   \n93890         [This, page, will, need, disambiguation, .]  2002       True   \n\n             ns  sample  split    attack  \nrev_id                                    \n37675   article  random  train  0.000000  \n44816   article  random  train  0.000000  \n49851   article  random  train  0.000000  \n89320   article  random    dev  0.444444  \n93890   article  random  train  0.000000  ",
      "text/html": "<div>\n<style scoped>\n    .dataframe tbody tr th:only-of-type {\n        vertical-align: middle;\n    }\n\n    .dataframe tbody tr th {\n        vertical-align: top;\n    }\n\n    .dataframe thead th {\n        text-align: right;\n    }\n</style>\n<table border=\"1\" class=\"dataframe\">\n  <thead>\n    <tr style=\"text-align: right;\">\n      <th></th>\n      <th>comment</th>\n      <th>year</th>\n      <th>logged_in</th>\n      <th>ns</th>\n      <th>sample</th>\n      <th>split</th>\n      <th>attack</th>\n    </tr>\n    <tr>\n      <th>rev_id</th>\n      <th></th>\n      <th></th>\n      <th></th>\n      <th></th>\n      <th></th>\n      <th></th>\n      <th></th>\n    </tr>\n  </thead>\n  <tbody>\n    <tr>\n      <th>37675</th>\n      <td>[`, -, This, is, not, ``, creative, ``, ., Tho...</td>\n      <td>2002</td>\n      <td>False</td>\n      <td>article</td>\n      <td>random</td>\n      <td>train</td>\n      <td>0.000000</td>\n    </tr>\n    <tr>\n      <th>44816</th>\n      <td>[`, :, :, the, term, ``, standard, model, ``, ...</td>\n      <td>2002</td>\n      <td>False</td>\n      <td>article</td>\n      <td>random</td>\n      <td>train</td>\n      <td>0.000000</td>\n    </tr>\n    <tr>\n      <th>49851</th>\n      <td>[True, or, false, ,, the, situation, as, of, M...</td>\n      <td>2002</td>\n      <td>False</td>\n      <td>article</td>\n      <td>random</td>\n      <td>train</td>\n      <td>0.000000</td>\n    </tr>\n    <tr>\n      <th>89320</th>\n      <td>[Next, ,, maybe, you, could, work, on, being, ...</td>\n      <td>2002</td>\n      <td>True</td>\n      <td>article</td>\n      <td>random</td>\n      <td>dev</td>\n      <td>0.444444</td>\n    </tr>\n    <tr>\n      <th>93890</th>\n      <td>[This, page, will, need, disambiguation, .]</td>\n      <td>2002</td>\n      <td>True</td>\n      <td>article</td>\n      <td>random</td>\n      <td>train</td>\n      <td>0.000000</td>\n    </tr>\n  </tbody>\n</table>\n</div>"
     },
     "metadata": {},
     "execution_count": 14
    }
   ],
   "source": [
    "comments.head()"
   ]
  },
  {
   "cell_type": "code",
   "execution_count": null,
   "metadata": {},
   "outputs": [],
   "source": []
  }
 ]
}